{
 "cells": [
  {
   "cell_type": "code",
   "execution_count": 1,
   "id": "85b4e922",
   "metadata": {},
   "outputs": [],
   "source": [
    "import pandas as pd\n",
    "import matplotlib.pyplot as plt\n",
    "import matplotlib.dates as mdates"
   ]
  },
  {
   "cell_type": "code",
   "execution_count": 3,
   "id": "e8648e53",
   "metadata": {},
   "outputs": [],
   "source": [
    "df = pd.read_csv('https://raw.githubusercontent.com/danielvieira95/Inteligencia_Artificial_2025/refs/heads/main/bases_de_dados/monitoramento_tempo.csv')"
   ]
  },
  {
   "cell_type": "code",
   "execution_count": 4,
   "id": "f32c736e",
   "metadata": {},
   "outputs": [
    {
     "data": {
      "text/html": [
       "<div>\n",
       "<style scoped>\n",
       "    .dataframe tbody tr th:only-of-type {\n",
       "        vertical-align: middle;\n",
       "    }\n",
       "\n",
       "    .dataframe tbody tr th {\n",
       "        vertical-align: top;\n",
       "    }\n",
       "\n",
       "    .dataframe thead th {\n",
       "        text-align: right;\n",
       "    }\n",
       "</style>\n",
       "<table border=\"1\" class=\"dataframe\">\n",
       "  <thead>\n",
       "    <tr style=\"text-align: right;\">\n",
       "      <th></th>\n",
       "      <th>temperatura</th>\n",
       "      <th>pressão</th>\n",
       "      <th>humidade</th>\n",
       "      <th>direção do vento</th>\n",
       "      <th>velocidade do vento</th>\n",
       "      <th>dia_da_semana</th>\n",
       "      <th>data</th>\n",
       "    </tr>\n",
       "  </thead>\n",
       "  <tbody>\n",
       "    <tr>\n",
       "      <th>0</th>\n",
       "      <td>282.080000</td>\n",
       "      <td>1024.0</td>\n",
       "      <td>81.0</td>\n",
       "      <td>0.0</td>\n",
       "      <td>0.0</td>\n",
       "      <td>Domingo</td>\n",
       "      <td>2012-10-01 12:00:00</td>\n",
       "    </tr>\n",
       "    <tr>\n",
       "      <th>1</th>\n",
       "      <td>282.080000</td>\n",
       "      <td>1024.0</td>\n",
       "      <td>81.0</td>\n",
       "      <td>0.0</td>\n",
       "      <td>0.0</td>\n",
       "      <td>Domingo</td>\n",
       "      <td>2012-10-01 13:00:00</td>\n",
       "    </tr>\n",
       "    <tr>\n",
       "      <th>2</th>\n",
       "      <td>282.083252</td>\n",
       "      <td>1024.0</td>\n",
       "      <td>80.0</td>\n",
       "      <td>4.0</td>\n",
       "      <td>0.0</td>\n",
       "      <td>Domingo</td>\n",
       "      <td>2012-10-01 14:00:00</td>\n",
       "    </tr>\n",
       "    <tr>\n",
       "      <th>3</th>\n",
       "      <td>282.091866</td>\n",
       "      <td>1024.0</td>\n",
       "      <td>80.0</td>\n",
       "      <td>18.0</td>\n",
       "      <td>0.0</td>\n",
       "      <td>Domingo</td>\n",
       "      <td>2012-10-01 15:00:00</td>\n",
       "    </tr>\n",
       "    <tr>\n",
       "      <th>4</th>\n",
       "      <td>282.100481</td>\n",
       "      <td>1024.0</td>\n",
       "      <td>80.0</td>\n",
       "      <td>31.0</td>\n",
       "      <td>0.0</td>\n",
       "      <td>Domingo</td>\n",
       "      <td>2012-10-01 16:00:00</td>\n",
       "    </tr>\n",
       "  </tbody>\n",
       "</table>\n",
       "</div>"
      ],
      "text/plain": [
       "   temperatura  pressão  humidade  direção do vento  velocidade do vento  \\\n",
       "0   282.080000   1024.0      81.0               0.0                  0.0   \n",
       "1   282.080000   1024.0      81.0               0.0                  0.0   \n",
       "2   282.083252   1024.0      80.0               4.0                  0.0   \n",
       "3   282.091866   1024.0      80.0              18.0                  0.0   \n",
       "4   282.100481   1024.0      80.0              31.0                  0.0   \n",
       "\n",
       "  dia_da_semana                 data  \n",
       "0       Domingo  2012-10-01 12:00:00  \n",
       "1       Domingo  2012-10-01 13:00:00  \n",
       "2       Domingo  2012-10-01 14:00:00  \n",
       "3       Domingo  2012-10-01 15:00:00  \n",
       "4       Domingo  2012-10-01 16:00:00  "
      ]
     },
     "execution_count": 4,
     "metadata": {},
     "output_type": "execute_result"
    }
   ],
   "source": [
    "df.head()"
   ]
  },
  {
   "cell_type": "code",
   "execution_count": 5,
   "id": "f7233ffa",
   "metadata": {},
   "outputs": [
    {
     "data": {
      "text/html": [
       "<div>\n",
       "<style scoped>\n",
       "    .dataframe tbody tr th:only-of-type {\n",
       "        vertical-align: middle;\n",
       "    }\n",
       "\n",
       "    .dataframe tbody tr th {\n",
       "        vertical-align: top;\n",
       "    }\n",
       "\n",
       "    .dataframe thead th {\n",
       "        text-align: right;\n",
       "    }\n",
       "</style>\n",
       "<table border=\"1\" class=\"dataframe\">\n",
       "  <thead>\n",
       "    <tr style=\"text-align: right;\">\n",
       "      <th></th>\n",
       "      <th>temperatura</th>\n",
       "      <th>pressão</th>\n",
       "      <th>humidade</th>\n",
       "      <th>direção do vento</th>\n",
       "      <th>velocidade do vento</th>\n",
       "      <th>dia_da_semana</th>\n",
       "      <th>data</th>\n",
       "    </tr>\n",
       "  </thead>\n",
       "  <tbody>\n",
       "    <tr>\n",
       "      <th>45248</th>\n",
       "      <td>282.00</td>\n",
       "      <td>1031.0</td>\n",
       "      <td>81.0</td>\n",
       "      <td>50.0</td>\n",
       "      <td>2.0</td>\n",
       "      <td>Terça</td>\n",
       "      <td>2017-11-29 20:00:00</td>\n",
       "    </tr>\n",
       "    <tr>\n",
       "      <th>45249</th>\n",
       "      <td>282.89</td>\n",
       "      <td>1030.0</td>\n",
       "      <td>71.0</td>\n",
       "      <td>330.0</td>\n",
       "      <td>1.0</td>\n",
       "      <td>Terça</td>\n",
       "      <td>2017-11-29 21:00:00</td>\n",
       "    </tr>\n",
       "    <tr>\n",
       "      <th>45250</th>\n",
       "      <td>283.39</td>\n",
       "      <td>1030.0</td>\n",
       "      <td>71.0</td>\n",
       "      <td>290.0</td>\n",
       "      <td>1.0</td>\n",
       "      <td>Terça</td>\n",
       "      <td>2017-11-29 22:00:00</td>\n",
       "    </tr>\n",
       "    <tr>\n",
       "      <th>45251</th>\n",
       "      <td>283.02</td>\n",
       "      <td>1029.0</td>\n",
       "      <td>71.0</td>\n",
       "      <td>290.0</td>\n",
       "      <td>2.0</td>\n",
       "      <td>Terça</td>\n",
       "      <td>2017-11-29 23:00:00</td>\n",
       "    </tr>\n",
       "    <tr>\n",
       "      <th>45252</th>\n",
       "      <td>282.28</td>\n",
       "      <td>1029.0</td>\n",
       "      <td>76.0</td>\n",
       "      <td>340.0</td>\n",
       "      <td>1.0</td>\n",
       "      <td>Quarta</td>\n",
       "      <td>2017-11-30 00:00:00</td>\n",
       "    </tr>\n",
       "  </tbody>\n",
       "</table>\n",
       "</div>"
      ],
      "text/plain": [
       "       temperatura  pressão  humidade  direção do vento  velocidade do vento  \\\n",
       "45248       282.00   1031.0      81.0              50.0                  2.0   \n",
       "45249       282.89   1030.0      71.0             330.0                  1.0   \n",
       "45250       283.39   1030.0      71.0             290.0                  1.0   \n",
       "45251       283.02   1029.0      71.0             290.0                  2.0   \n",
       "45252       282.28   1029.0      76.0             340.0                  1.0   \n",
       "\n",
       "      dia_da_semana                 data  \n",
       "45248         Terça  2017-11-29 20:00:00  \n",
       "45249         Terça  2017-11-29 21:00:00  \n",
       "45250         Terça  2017-11-29 22:00:00  \n",
       "45251         Terça  2017-11-29 23:00:00  \n",
       "45252        Quarta  2017-11-30 00:00:00  "
      ]
     },
     "execution_count": 5,
     "metadata": {},
     "output_type": "execute_result"
    }
   ],
   "source": [
    "df.tail()"
   ]
  },
  {
   "cell_type": "code",
   "execution_count": 6,
   "id": "fc2fc55c",
   "metadata": {},
   "outputs": [
    {
     "name": "stdout",
     "output_type": "stream",
     "text": [
      "<class 'pandas.core.frame.DataFrame'>\n",
      "RangeIndex: 45253 entries, 0 to 45252\n",
      "Data columns (total 7 columns):\n",
      " #   Column               Non-Null Count  Dtype  \n",
      "---  ------               --------------  -----  \n",
      " 0   temperatura          45253 non-null  float64\n",
      " 1   pressão              45253 non-null  float64\n",
      " 2   humidade             45253 non-null  float64\n",
      " 3   direção do vento     45253 non-null  float64\n",
      " 4   velocidade do vento  45253 non-null  float64\n",
      " 5   dia_da_semana        45253 non-null  object \n",
      " 6   data                 45253 non-null  object \n",
      "dtypes: float64(5), object(2)\n",
      "memory usage: 2.4+ MB\n"
     ]
    }
   ],
   "source": [
    "df.info()"
   ]
  },
  {
   "cell_type": "code",
   "execution_count": 7,
   "id": "b275bec1",
   "metadata": {},
   "outputs": [],
   "source": [
    "import datetime\n",
    "df['data'] = pd.to_datetime(df['data'])"
   ]
  },
  {
   "cell_type": "code",
   "execution_count": 8,
   "id": "ed00e510",
   "metadata": {},
   "outputs": [
    {
     "name": "stdout",
     "output_type": "stream",
     "text": [
      "<class 'pandas.core.frame.DataFrame'>\n",
      "RangeIndex: 45253 entries, 0 to 45252\n",
      "Data columns (total 7 columns):\n",
      " #   Column               Non-Null Count  Dtype         \n",
      "---  ------               --------------  -----         \n",
      " 0   temperatura          45253 non-null  float64       \n",
      " 1   pressão              45253 non-null  float64       \n",
      " 2   humidade             45253 non-null  float64       \n",
      " 3   direção do vento     45253 non-null  float64       \n",
      " 4   velocidade do vento  45253 non-null  float64       \n",
      " 5   dia_da_semana        45253 non-null  object        \n",
      " 6   data                 45253 non-null  datetime64[ns]\n",
      "dtypes: datetime64[ns](1), float64(5), object(1)\n",
      "memory usage: 2.4+ MB\n"
     ]
    }
   ],
   "source": [
    "df.info()"
   ]
  }
 ],
 "metadata": {
  "kernelspec": {
   "display_name": "Python 3",
   "language": "python",
   "name": "python3"
  },
  "language_info": {
   "codemirror_mode": {
    "name": "ipython",
    "version": 3
   },
   "file_extension": ".py",
   "mimetype": "text/x-python",
   "name": "python",
   "nbconvert_exporter": "python",
   "pygments_lexer": "ipython3",
   "version": "3.13.1"
  }
 },
 "nbformat": 4,
 "nbformat_minor": 5
}
